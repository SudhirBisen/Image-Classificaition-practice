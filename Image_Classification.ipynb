{
 "cells": [
  {
   "cell_type": "code",
   "execution_count": 10,
   "id": "79b109c7",
   "metadata": {},
   "outputs": [],
   "source": [
    "## Image clasifcation ptactice notebook "
   ]
  },
  {
   "cell_type": "code",
   "execution_count": 19,
   "id": "d4f7a436",
   "metadata": {},
   "outputs": [],
   "source": [
    "import tensorflow as tf\n",
    "from tensorflow.keras import datasets, layers, models\n",
    "import matplotlib.pyplot as plt\n",
    "import numpy as np\n",
    "import pandas as pd"
   ]
  },
  {
   "cell_type": "code",
   "execution_count": 9,
   "id": "3feee1df",
   "metadata": {},
   "outputs": [
    {
     "name": "stdout",
     "output_type": "stream",
     "text": [
      "Downloading data from https://www.cs.toronto.edu/~kriz/cifar-10-python.tar.gz\n",
      "170498071/170498071 [==============================] - 873s 5us/step\n"
     ]
    }
   ],
   "source": [
    "(X_train, y_train), (X_test, y_test) =datasets.cifar10.load_data()"
   ]
  },
  {
   "cell_type": "code",
   "execution_count": 12,
   "id": "8f6b2211",
   "metadata": {},
   "outputs": [
    {
     "data": {
      "text/plain": [
       "(50000, 32, 32, 3)"
      ]
     },
     "execution_count": 12,
     "metadata": {},
     "output_type": "execute_result"
    }
   ],
   "source": [
    "X_train.shape"
   ]
  },
  {
   "cell_type": "code",
   "execution_count": 13,
   "id": "352f0a19",
   "metadata": {},
   "outputs": [
    {
     "data": {
      "text/plain": [
       "(10000, 32, 32, 3)"
      ]
     },
     "execution_count": 13,
     "metadata": {},
     "output_type": "execute_result"
    }
   ],
   "source": [
    "X_test.shape"
   ]
  },
  {
   "cell_type": "code",
   "execution_count": 14,
   "id": "925f4ef6",
   "metadata": {},
   "outputs": [
    {
     "data": {
      "text/plain": [
       "(10000, 1)"
      ]
     },
     "execution_count": 14,
     "metadata": {},
     "output_type": "execute_result"
    }
   ],
   "source": [
    "y_test.shape"
   ]
  },
  {
   "cell_type": "code",
   "execution_count": 15,
   "id": "577074b1",
   "metadata": {},
   "outputs": [
    {
     "data": {
      "text/plain": [
       "(50000, 1)"
      ]
     },
     "execution_count": 15,
     "metadata": {},
     "output_type": "execute_result"
    }
   ],
   "source": [
    "y_train.shape"
   ]
  },
  {
   "cell_type": "code",
   "execution_count": 21,
   "id": "e18be271",
   "metadata": {},
   "outputs": [
    {
     "data": {
      "text/plain": [
       "array([6, 9, 9, 4, 1], dtype=uint8)"
      ]
     },
     "execution_count": 21,
     "metadata": {},
     "output_type": "execute_result"
    }
   ],
   "source": [
    "y_train = y_train.reshape(-1,)\n",
    "y_train[:5]"
   ]
  },
  {
   "cell_type": "code",
   "execution_count": 16,
   "id": "8f0fe64a",
   "metadata": {},
   "outputs": [],
   "source": [
    "classes = [\"airplane\",\"automobile\",\"bird\",\"cat\",\"deer\",\"dog\",\"frog\",\"horse\",\"ship\",\"truck\"]"
   ]
  },
  {
   "cell_type": "code",
   "execution_count": 27,
   "id": "ba1fa501",
   "metadata": {},
   "outputs": [],
   "source": [
    "def plot_sample(X, y, index):\n",
    "    plt.figure(figsize = (1,1))\n",
    "    plt.imshow(X[index])\n",
    "    plt.xlabel(classes[y[index]])"
   ]
  },
  {
   "cell_type": "code",
   "execution_count": 28,
   "id": "97666c58",
   "metadata": {},
   "outputs": [
    {
     "data": {
      "image/png": "[encoded data removed]",
      "text/plain": [
       "<Figure size 72x72 with 1 Axes>"
      ]
     },
     "metadata": {
      "needs_background": "light"
     },
     "output_type": "display_data"
    }
   ],
   "source": [
    "plot_sample(X_train, y_train, 0)"
   ]
  },
  {
   "cell_type": "code",
   "execution_count": 30,
   "id": "93dd6333",
   "metadata": {},
   "outputs": [
    {
     "data": {
      "image/png": "[encoded data removed]",
      "text/plain": [
       "<Figure size 72x72 with 1 Axes>"
      ]
     },
     "metadata": {
      "needs_background": "light"
     },
     "output_type": "display_data"
    }
   ],
   "source": [
    "plot_sample(X_train, y_train, 3)"
   ]
  },
  {
   "cell_type": "code",
   "execution_count": 31,
   "id": "b7fdfb87",
   "metadata": {},
   "outputs": [],
   "source": [
    "X_train = X_train / 255.0\n",
    "X_test = X_test / 255.0"
   ]
  },
  {
   "cell_type": "code",
   "execution_count": null,
   "id": "a0924ecd",
   "metadata": {},
   "outputs": [],
   "source": []
  },
  {
   "cell_type": "code",
   "execution_count": 56,
   "id": "fd0c22c6",
   "metadata": {},
   "outputs": [],
   "source": [
    "cnn = models.Sequential([\n",
    "    layers.Conv2D(filters=32, kernel_size=(3, 3), activation='relu', input_shape=(32, 32, 3)),\n",
    "    layers.MaxPooling2D((2, 2)),\n",
    "    \n",
    "    layers.Conv2D(filters=64, kernel_size=(3, 3), activation='relu'),\n",
    "    layers.MaxPooling2D((2, 2)),\n",
    " \n",
    "    layers.Conv2D(filters=128, kernel_size=(3, 3), padding=\"same\", activation='relu'),\n",
    "    layers.MaxPooling2D((2, 2)),\n",
    "    layers.Dropout(0.4),\n",
    "    \n",
    "    \n",
    "    layers.Flatten(),\n",
    "    layers.Dense(64, activation='relu'),\n",
    "    layers.Dense(10, activation='softmax')\n",
    "])"
   ]
  },
  {
   "cell_type": "code",
   "execution_count": 57,
   "id": "2bcf5946",
   "metadata": {},
   "outputs": [],
   "source": [
    "cnn.compile(optimizer='adam',\n",
    "              loss='sparse_categorical_crossentropy',\n",
    "              metrics=['accuracy'])"
   ]
  },
  {
   "cell_type": "code",
   "execution_count": 59,
   "id": "1d5287ad",
   "metadata": {},
   "outputs": [
    {
     "name": "stdout",
     "output_type": "stream",
     "text": [
      "Epoch 1/20\n",
      "1563/1563 [==============================] - 183s 112ms/step - loss: 1.2841 - accuracy: 0.5398 - val_loss: 1.0839 - val_accuracy: 0.6177\n",
      "Epoch 2/20\n",
      "1563/1563 [==============================] - 133s 85ms/step - loss: 1.0725 - accuracy: 0.6198 - val_loss: 0.9522 - val_accuracy: 0.6692\n",
      "Epoch 3/20\n",
      "1563/1563 [==============================] - 141s 90ms/step - loss: 0.9540 - accuracy: 0.6661 - val_loss: 0.9294 - val_accuracy: 0.6804\n",
      "Epoch 4/20\n",
      "1563/1563 [==============================] - 152s 98ms/step - loss: 0.8768 - accuracy: 0.6929 - val_loss: 0.8553 - val_accuracy: 0.6986\n",
      "Epoch 5/20\n",
      "1563/1563 [==============================] - 139s 89ms/step - loss: 0.8188 - accuracy: 0.7142 - val_loss: 0.8128 - val_accuracy: 0.7147\n",
      "Epoch 6/20\n",
      "1563/1563 [==============================] - 134s 86ms/step - loss: 0.7688 - accuracy: 0.7307 - val_loss: 0.8122 - val_accuracy: 0.7173\n",
      "Epoch 7/20\n",
      "1563/1563 [==============================] - 137s 88ms/step - loss: 0.7255 - accuracy: 0.7448 - val_loss: 0.7930 - val_accuracy: 0.7273\n",
      "Epoch 8/20\n",
      "1563/1563 [==============================] - 139s 89ms/step - loss: 0.6957 - accuracy: 0.7549 - val_loss: 0.8025 - val_accuracy: 0.7224\n",
      "Epoch 9/20\n",
      "1563/1563 [==============================] - 132s 85ms/step - loss: 0.6625 - accuracy: 0.7682 - val_loss: 0.7568 - val_accuracy: 0.7422\n",
      "Epoch 10/20\n",
      "1563/1563 [==============================] - 133s 85ms/step - loss: 0.6391 - accuracy: 0.7754 - val_loss: 0.8080 - val_accuracy: 0.7256\n",
      "Epoch 11/20\n",
      "1563/1563 [==============================] - 137s 87ms/step - loss: 0.6117 - accuracy: 0.7836 - val_loss: 0.7455 - val_accuracy: 0.7482\n",
      "Epoch 12/20\n",
      "1563/1563 [==============================] - 137s 87ms/step - loss: 0.5875 - accuracy: 0.7928 - val_loss: 0.7164 - val_accuracy: 0.7577\n",
      "Epoch 13/20\n",
      "1563/1563 [==============================] - 140s 90ms/step - loss: 0.5681 - accuracy: 0.7979 - val_loss: 0.7378 - val_accuracy: 0.7470\n",
      "Epoch 14/20\n",
      "1563/1563 [==============================] - 138s 88ms/step - loss: 0.5506 - accuracy: 0.8046 - val_loss: 0.7111 - val_accuracy: 0.7593\n",
      "Epoch 15/20\n",
      "1563/1563 [==============================] - 138s 88ms/step - loss: 0.5342 - accuracy: 0.8105 - val_loss: 0.7257 - val_accuracy: 0.7591\n",
      "Epoch 16/20\n",
      "1563/1563 [==============================] - 141s 90ms/step - loss: 0.5183 - accuracy: 0.8168 - val_loss: 0.7142 - val_accuracy: 0.7634\n",
      "Epoch 17/20\n",
      "1563/1563 [==============================] - 137s 88ms/step - loss: 0.5033 - accuracy: 0.8220 - val_loss: 0.7269 - val_accuracy: 0.7586\n",
      "Epoch 18/20\n",
      "1563/1563 [==============================] - 183s 117ms/step - loss: 0.4912 - accuracy: 0.8245 - val_loss: 0.7333 - val_accuracy: 0.7573\n",
      "Epoch 19/20\n",
      "1563/1563 [==============================] - 165s 106ms/step - loss: 0.4738 - accuracy: 0.8301 - val_loss: 0.7127 - val_accuracy: 0.7628\n",
      "Epoch 20/20\n",
      "1563/1563 [==============================] - 151s 96ms/step - loss: 0.4659 - accuracy: 0.8331 - val_loss: 0.7320 - val_accuracy: 0.7619\n"
     ]
    }
   ],
   "source": [
    "history= cnn.fit(X_train, y_train, epochs=20,  validation_data = (X_test, y_test)) "
   ]
  },
  {
   "cell_type": "code",
   "execution_count": 60,
   "id": "be090fb8",
   "metadata": {},
   "outputs": [
    {
     "data": {
      "image/png": "[encoded data removed]",
      "text/plain": [
       "<Figure size 1080x1080 with 2 Axes>"
      ]
     },
     "metadata": {
      "needs_background": "light"
     },
     "output_type": "display_data"
    }
   ],
   "source": [
    "acc = history.history['accuracy']\n",
    "val_acc = history.history['val_accuracy']\n",
    "loss = history.history['loss']\n",
    "val_loss = history.history['val_loss']\n",
    "\n",
    "epochs_range = range(20)\n",
    "\n",
    "\n",
    "plt.figure(figsize=(15, 15))\n",
    "plt.subplot(2, 2, 1)\n",
    "plt.plot(epochs_range, acc, label='Training Accuracy')\n",
    "plt.plot(epochs_range, val_acc, label='Validation Accuracy')\n",
    "plt.legend(loc='lower right')\n",
    "plt.title('Training and Validation Accuracy')\n",
    "\n",
    "plt.subplot(2, 2, 2)\n",
    "plt.plot(epochs_range, loss, label='Training Loss')\n",
    "plt.plot(epochs_range, val_loss, label='Validation Loss')\n",
    "plt.legend(loc='upper right')\n",
    "plt.title('Training and Validation Loss')\n",
    "plt.show()\n",
    "\n"
   ]
  },
  {
   "cell_type": "code",
   "execution_count": 61,
   "id": "060e350e",
   "metadata": {},
   "outputs": [
    {
     "name": "stdout",
     "output_type": "stream",
     "text": [
      "313/313 [==============================] - 11s 32ms/step - loss: 0.7320 - accuracy: 0.7619\n"
     ]
    },
    {
     "data": {
      "text/plain": [
       "[0.7320455312728882, 0.761900007724762]"
      ]
     },
     "execution_count": 61,
     "metadata": {},
     "output_type": "execute_result"
    }
   ],
   "source": [
    "cnn.evaluate(X_test,y_test)"
   ]
  },
  {
   "cell_type": "code",
   "execution_count": 62,
   "id": "83a546e5",
   "metadata": {},
   "outputs": [
    {
     "name": "stdout",
     "output_type": "stream",
     "text": [
      "313/313 [==============================] - 19s 53ms/step\n"
     ]
    },
    {
     "data": {
      "text/plain": [
       "array([[1.04327975e-02, 5.61214809e-04, 1.66501328e-02, 7.64966786e-01,\n",
       "        6.57568278e-04, 1.33031800e-01, 1.68577358e-02, 2.14225277e-02,\n",
       "        1.89410187e-02, 1.64784323e-02],\n",
       "       [2.82585475e-04, 8.43498111e-03, 6.08444068e-08, 1.93015914e-08,\n",
       "        4.51192106e-09, 2.12605003e-10, 2.57985322e-09, 2.75361123e-11,\n",
       "        9.91002142e-01, 2.80181121e-04],\n",
       "       [2.02723980e-01, 2.30834028e-03, 2.60905872e-05, 6.69201254e-05,\n",
       "        4.10066605e-05, 4.39527139e-05, 7.74201283e-07, 2.26064985e-05,\n",
       "        7.88881898e-01, 5.88443503e-03],\n",
       "       [9.35496449e-01, 6.25047134e-04, 5.54302940e-03, 5.24448464e-04,\n",
       "        2.19330803e-04, 2.18929767e-06, 3.62710011e-07, 1.03762895e-05,\n",
       "        5.38193397e-02, 3.75934085e-03],\n",
       "       [3.91822468e-08, 8.17839748e-07, 1.26371428e-01, 1.59983411e-02,\n",
       "        6.20920122e-01, 5.36946580e-04, 2.36166984e-01, 2.43846284e-06,\n",
       "        1.58925059e-06, 1.24463406e-06]], dtype=float32)"
      ]
     },
     "execution_count": 62,
     "metadata": {},
     "output_type": "execute_result"
    }
   ],
   "source": [
    "y_pred = cnn.predict(X_test)\n",
    "y_pred[:5]"
   ]
  },
  {
   "cell_type": "code",
   "execution_count": 63,
   "id": "793958c3",
   "metadata": {},
   "outputs": [
    {
     "data": {
      "text/plain": [
       "[3, 8, 8, 0, 4]"
      ]
     },
     "execution_count": 63,
     "metadata": {},
     "output_type": "execute_result"
    }
   ],
   "source": [
    "y_classes = [np.argmax(element) for element in y_pred]\n",
    "y_classes[:5]"
   ]
  },
  {
   "cell_type": "code",
   "execution_count": 64,
   "id": "13b9bc4f",
   "metadata": {},
   "outputs": [
    {
     "data": {
      "text/plain": [
       "array([3, 8, 8, 0, 6], dtype=uint8)"
      ]
     },
     "execution_count": 64,
     "metadata": {},
     "output_type": "execute_result"
    }
   ],
   "source": [
    "y_test = y_test.reshape(-1,)\n",
    "y_test[:5]"
   ]
  },
  {
   "cell_type": "code",
   "execution_count": 65,
   "id": "67993432",
   "metadata": {},
   "outputs": [
    {
     "data": {
      "image/png": "[encoded data removed]",
      "text/plain": [
       "<Figure size 72x72 with 1 Axes>"
      ]
     },
     "metadata": {
      "needs_background": "light"
     },
     "output_type": "display_data"
    }
   ],
   "source": [
    "plot_sample(X_test, y_test,6)"
   ]
  },
  {
   "cell_type": "code",
   "execution_count": 66,
   "id": "52ce97a1",
   "metadata": {},
   "outputs": [
    {
     "data": {
      "text/plain": [
       "'automobile'"
      ]
     },
     "execution_count": 66,
     "metadata": {},
     "output_type": "execute_result"
    }
   ],
   "source": [
    "classes[y_classes[6]]"
   ]
  },
  {
   "cell_type": "code",
   "execution_count": 67,
   "id": "b263f227",
   "metadata": {},
   "outputs": [
    {
     "data": {
      "text/plain": [
       "'airplane'"
      ]
     },
     "execution_count": 67,
     "metadata": {},
     "output_type": "execute_result"
    }
   ],
   "source": [
    "classes[y_classes[3]]"
   ]
  },
  {
   "cell_type": "code",
   "execution_count": null,
   "id": "19e68f63",
   "metadata": {},
   "outputs": [],
   "source": []
  },
  {
   "cell_type": "code",
   "execution_count": 49,
   "id": "668d0ba5",
   "metadata": {},
   "outputs": [],
   "source": [
    "from IPython import display\n",
    "aa = display.Image(\"E:\\Python project\\dog.jpg\")"
   ]
  },
  {
   "cell_type": "code",
   "execution_count": 53,
   "id": "c9222fd1",
   "metadata": {},
   "outputs": [
    {
     "data": {
      "image/jpeg": "[encoded data removed]",
      "text/plain": [
       "<IPython.core.display.Image object>"
      ]
     },
     "execution_count": 53,
     "metadata": {},
     "output_type": "execute_result"
    }
   ],
   "source": [
    "aa"
   ]
  },
  {
   "cell_type": "code",
   "execution_count": 69,
   "id": "273ac780",
   "metadata": {},
   "outputs": [
    {
     "ename": "ImportError",
     "evalue": "cannot import name 'load_img' from 'keras.preprocessing.image' (C:\\Users\\Sudhir\\AppData\\Roaming\\Python\\Python39\\site-packages\\keras\\preprocessing\\image.py)",
     "output_type": "error",
     "traceback": [
      "\u001b[1;31m---------------------------------------------------------------------------\u001b[0m",
      "\u001b[1;31mImportError\u001b[0m                               Traceback (most recent call last)",
      "Input \u001b[1;32mIn [69]\u001b[0m, in \u001b[0;36m<cell line: 1>\u001b[1;34m()\u001b[0m\n\u001b[1;32m----> 1\u001b[0m \u001b[38;5;28;01mfrom\u001b[39;00m \u001b[38;5;21;01mkeras\u001b[39;00m\u001b[38;5;21;01m.\u001b[39;00m\u001b[38;5;21;01mpreprocessing\u001b[39;00m\u001b[38;5;21;01m.\u001b[39;00m\u001b[38;5;21;01mimage\u001b[39;00m \u001b[38;5;28;01mimport\u001b[39;00m load_img\n",
      "\u001b[1;31mImportError\u001b[0m: cannot import name 'load_img' from 'keras.preprocessing.image' (C:\\Users\\Sudhir\\AppData\\Roaming\\Python\\Python39\\site-packages\\keras\\preprocessing\\image.py)"
     ]
    }
   ],
   "source": [
    "from keras.preprocessing.image import load_img"
   ]
  },
  {
   "cell_type": "code",
   "execution_count": 70,
   "id": "d12dc75d",
   "metadata": {},
   "outputs": [
    {
     "ename": "NameError",
     "evalue": "name 'load_img' is not defined",
     "output_type": "error",
     "traceback": [
      "\u001b[1;31m---------------------------------------------------------------------------\u001b[0m",
      "\u001b[1;31mNameError\u001b[0m                                 Traceback (most recent call last)",
      "Input \u001b[1;32mIn [70]\u001b[0m, in \u001b[0;36m<cell line: 5>\u001b[1;34m()\u001b[0m\n\u001b[0;32m      1\u001b[0m \u001b[38;5;28;01mfrom\u001b[39;00m \u001b[38;5;21;01mkeras\u001b[39;00m\u001b[38;5;21;01m.\u001b[39;00m\u001b[38;5;21;01mmodels\u001b[39;00m \u001b[38;5;28;01mimport\u001b[39;00m load_model\n\u001b[0;32m      3\u001b[0m \u001b[38;5;66;03m#model = load_model('model_saved.h5')\u001b[39;00m\n\u001b[1;32m----> 5\u001b[0m image \u001b[38;5;241m=\u001b[39m \u001b[43mload_img\u001b[49m(\u001b[38;5;124m'\u001b[39m\u001b[38;5;124mv_data/test/planes/5.jpg\u001b[39m\u001b[38;5;124m'\u001b[39m, target_size\u001b[38;5;241m=\u001b[39m(\u001b[38;5;241m224\u001b[39m, \u001b[38;5;241m224\u001b[39m))\n\u001b[0;32m      6\u001b[0m img \u001b[38;5;241m=\u001b[39m np\u001b[38;5;241m.\u001b[39marray(image)\n\u001b[0;32m      7\u001b[0m img \u001b[38;5;241m=\u001b[39m img \u001b[38;5;241m/\u001b[39m \u001b[38;5;241m255.0\u001b[39m\n",
      "\u001b[1;31mNameError\u001b[0m: name 'load_img' is not defined"
     ]
    }
   ],
   "source": [
    "from keras.models import load_model\n",
    " \n",
    "#model = load_model('model_saved.h5')\n",
    " \n",
    "image = load_img('v_data/test/planes/5.jpg', target_size=(224, 224))\n",
    "img = np.array(image)\n",
    "img = img / 255.0"
   ]
  },
  {
   "cell_type": "code",
   "execution_count": null,
   "id": "eb0ea59f",
   "metadata": {},
   "outputs": [],
   "source": []
  },
  {
   "cell_type": "code",
   "execution_count": null,
   "id": "f1098f60",
   "metadata": {},
   "outputs": [],
   "source": []
  }
 ],
 "metadata": {
  "kernelspec": {
   "display_name": "Python 3 (ipykernel)",
   "language": "python",
   "name": "python3"
  },
  "language_info": {
   "codemirror_mode": {
    "name": "ipython",
    "version": 3
   },
   "file_extension": ".py",
   "mimetype": "text/x-python",
   "name": "python",
   "nbconvert_exporter": "python",
   "pygments_lexer": "ipython3",
   "version": "3.9.12"
  }
 },
 "nbformat": 4,
 "nbformat_minor": 5
}
